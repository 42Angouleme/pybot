{
 "cells": [
  {
   "cell_type": "markdown",
   "id": "0dd2ec70-94fd-467e-bad4-f0ff27832e20",
   "metadata": {},
   "source": [
    "# Interractions entre modules"
   ]
  },
  {
   "cell_type": "markdown",
   "id": "b065f52f-380b-4a92-ad46-158fab5bf57c",
   "metadata": {},
   "source": [
    "## Module Microphone vers IA"
   ]
  },
  {
   "cell_type": "code",
   "execution_count": null,
   "id": "7674814d-95ad-4fd1-9573-5e6e0dd82550",
   "metadata": {},
   "outputs": [],
   "source": [
    "# TODO Ajout de la démo"
   ]
  },
  {
   "cell_type": "markdown",
   "id": "67cd990a-5124-40a0-a181-3ac5b4aa0af4",
   "metadata": {},
   "source": [
    "## Module IA vers Audio"
   ]
  },
  {
   "cell_type": "code",
   "execution_count": null,
   "id": "269a83cf-563d-42d7-88ca-51b798e502d9",
   "metadata": {},
   "outputs": [],
   "source": [
    "# TODO Ajout de la démo"
   ]
  }
 ],
 "metadata": {
  "kernelspec": {
   "display_name": "Python 3 (ipykernel)",
   "language": "python",
   "name": "python3"
  },
  "language_info": {
   "codemirror_mode": {
    "name": "ipython",
    "version": 3
   },
   "file_extension": ".py",
   "mimetype": "text/x-python",
   "name": "python",
   "nbconvert_exporter": "python",
   "pygments_lexer": "ipython3",
   "version": "3.10.12"
  }
 },
 "nbformat": 4,
 "nbformat_minor": 5
}
