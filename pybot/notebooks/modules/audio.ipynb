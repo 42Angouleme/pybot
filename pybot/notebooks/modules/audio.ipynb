{
 "cells": [
  {
   "cell_type": "markdown",
   "id": "17978c78-04f2-4606-a80d-2705a4094d09",
   "metadata": {},
   "source": [
    "# Module Audio"
   ]
  },
  {
   "cell_type": "markdown",
   "id": "ad4a1e75-b77f-42d9-9759-1153d4a7db01",
   "metadata": {},
   "source": [
    "> TODO: Description et usage "
   ]
  },
  {
   "cell_type": "code",
   "execution_count": null,
   "id": "8edb4442-5612-4feb-87bd-7b0cfb57f830",
   "metadata": {},
   "outputs": [],
   "source": [
    "print(\"This is an interractive section, run your code here\")"
   ]
  }
 ],
 "metadata": {
  "kernelspec": {
   "display_name": "Python 3 (ipykernel)",
   "language": "python",
   "name": "python3"
  },
  "language_info": {
   "codemirror_mode": {
    "name": "ipython",
    "version": 3
   },
   "file_extension": ".py",
   "mimetype": "text/x-python",
   "name": "python",
   "nbconvert_exporter": "python",
   "pygments_lexer": "ipython3",
   "version": "3.10.12"
  }
 },
 "nbformat": 4,
 "nbformat_minor": 5
}
