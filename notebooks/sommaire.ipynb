{
 "cells": [
  {
   "cell_type": "markdown",
   "id": "2bd01d66-b6d0-4439-866e-e831699c34dc",
   "metadata": {},
   "source": [
    "# Modules disponibles"
   ]
  },
  {
   "cell_type": "markdown",
   "id": "4f8aa65f-151e-44a9-94d7-ab5f62090f42",
   "metadata": {},
   "source": [
    "## Module Microphone\n",
    "\n",
    "Ce module gère le microphone et analyse la voix.\n",
    "\n",
    "[Démo complète](./modules/microphone.ipynb)"
   ]
  },
  {
   "cell_type": "code",
   "execution_count": null,
   "id": "6a266362-d5c6-442b-b7c6-314fae106798",
   "metadata": {},
   "outputs": [],
   "source": [
    "from module_microphone import listen\n",
    "\n",
    "print(\"J'écoute pendant 5 secondes...\")\n",
    "print(\"Tu as dis: \" + listen.during(\"5 secondes\").as_text())"
   ]
  },
  {
   "cell_type": "markdown",
   "id": "aebf9abf-5aa2-43ba-8fde-e0cb593822fc",
   "metadata": {},
   "source": [
    "## Module Audio\n",
    "\n",
    "[Démo complète](./modules/audio.ipynb)"
   ]
  },
  {
   "cell_type": "code",
   "execution_count": null,
   "id": "97a95b9e-4089-4504-bcc9-3c7155adbb29",
   "metadata": {},
   "outputs": [],
   "source": [
    "# TODO: Ajouter un très court example d'usage de ce module"
   ]
  },
  {
   "cell_type": "markdown",
   "id": "8df7cfe0-eb2c-456e-a83d-184c30716746",
   "metadata": {},
   "source": [
    "## Module IA\n",
    "\n",
    "[Démo complète](./modules/ia.ipynb)"
   ]
  },
  {
   "cell_type": "code",
   "execution_count": null,
   "id": "0e4df7c1-0997-4aad-a7b6-50787ba6058e",
   "metadata": {},
   "outputs": [],
   "source": [
    "# TODO: Ajouter un très court example d'usage de ce module"
   ]
  },
  {
   "cell_type": "markdown",
   "id": "46a5bd9d-603d-4ea9-b922-577e77e79ca1",
   "metadata": {},
   "source": [
    "## Module Camera\n",
    "\n",
    "[Démo complète](./modules/camera.ipynb)"
   ]
  },
  {
   "cell_type": "code",
   "execution_count": null,
   "id": "e760f3ba-a50a-48b2-ae51-e280c7fa1bd9",
   "metadata": {},
   "outputs": [],
   "source": [
    "# TODO: Ajouter un très court example d'usage de ce module"
   ]
  },
  {
   "cell_type": "markdown",
   "id": "7c70b3af-1c2a-4da7-94c6-60642605a40d",
   "metadata": {},
   "source": [
    "## Module Écran\n",
    "\n",
    "[Démo complète](./modules/ecran.ipynb)"
   ]
  },
  {
   "cell_type": "code",
   "execution_count": null,
   "id": "ae3ac77d-7782-4399-9ee0-f77d734e6b15",
   "metadata": {},
   "outputs": [],
   "source": [
    "# TODO: Ajouter un très court example d'usage de ce module"
   ]
  },
  {
   "cell_type": "markdown",
   "id": "ecc54e48-86e0-4082-a43d-2ad75357615e",
   "metadata": {},
   "source": [
    "## Module WebAPP\n",
    "\n",
    "[Démo complète](./modules/webapp.ipynb)"
   ]
  },
  {
   "cell_type": "code",
   "execution_count": null,
   "id": "a7ee979f-47c5-4004-ae69-f8b4ead4708c",
   "metadata": {},
   "outputs": [],
   "source": [
    "# TODO: Ajouter un très court example d'usage de ce module"
   ]
  },
  {
   "cell_type": "code",
   "execution_count": null,
   "id": "ecd2c0a1-3207-4238-980e-6d60688a47b6",
   "metadata": {},
   "outputs": [],
   "source": []
  }
 ],
 "metadata": {
  "kernelspec": {
   "display_name": "Python 3 (ipykernel)",
   "language": "python",
   "name": "python3"
  },
  "language_info": {
   "codemirror_mode": {
    "name": "ipython",
    "version": 3
   },
   "file_extension": ".py",
   "mimetype": "text/x-python",
   "name": "python",
   "nbconvert_exporter": "python",
   "pygments_lexer": "ipython3",
   "version": "3.10.12"
  }
 },
 "nbformat": 4,
 "nbformat_minor": 5
}
