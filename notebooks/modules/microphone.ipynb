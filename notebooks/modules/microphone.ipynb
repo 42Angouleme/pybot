{
 "cells": [
  {
   "cell_type": "markdown",
   "id": "c7b44cf3-1cb7-4cd2-bff5-b0b278c34031",
   "metadata": {},
   "source": [
    "# Module microphone\n",
    "\n",
    "`listen` est une instance de `SpeechToText`. Le chaînage des méthodes permet de facilement déclencher l'enregistrement audio et de transcrire la voix en text."
   ]
  },
  {
   "cell_type": "code",
   "execution_count": null,
   "id": "d0d145cb-a2a2-4afa-944f-208fc96057eb",
   "metadata": {},
   "outputs": [],
   "source": [
    "from module_microphone import listen\n",
    "\n",
    "print(\"J'écoute pendant 5 secondes...\")\n",
    "print(\"Tu as dis: \" + listen.during(\"5 secondes\").as_text())"
   ]
  },
  {
   "cell_type": "markdown",
   "id": "2c9fa991-3d82-4116-903f-6cde0e46167a",
   "metadata": {},
   "source": [
    "- `during(duration)` Enregistre l'audio pendant une durée donnée soit en secondes (float), soit en toute lettres tel que \"une minute et 3 sec\"\n",
    "- `as_text()` Convertie l'audio enregistré en texte?"
   ]
  },
  {
   "cell_type": "code",
   "execution_count": null,
   "id": "cb29defc-c0ab-47ec-93ce-34de781b5594",
   "metadata": {},
   "outputs": [],
   "source": [
    "from module_microphone import listen\n",
    "\n",
    "print(\"J'écoute le temps d'une phrase...\")\n",
    "filepath = listen.one_phrase().save(\"/tmp/my_sentence_%Y-%m-%d_%Hh%Mm%Ss.wav\").filepath\n",
    "print(\"Fichier sauvegardé au chemin \" + filepath)\n",
    "\n",
    "# Le code qui suit est un widget qui permet d'écouter votre enregistrement dans le notebook.\n",
    "from IPython.display import display, Audio\n",
    "audio_widget = Audio(filename=filepath, autoplay=False)\n",
    "display(audio_widget)"
   ]
  },
  {
   "cell_type": "markdown",
   "id": "ef11b6d2-b575-48c2-958a-e6eb026cf372",
   "metadata": {},
   "source": [
    "- `one_phrase()` démarre l'enregistrement et s'arrête automatiquement quand la personne s'arrête de parler.\n",
    "- `save(filepath)` sauvegarde le fichier audio au chemin spécifié avec formattage de la date du début enregistrement.\n",
    "\n",
    "Les fonctions `during(duration)` et `one_phrase()` retournent une nouvelle instance de `AudioProcessor`.\n",
    "Les instances de `AudioProcessor` ont elles, une méthode `save(filepath)` et `as_text()`."
   ]
  },
  {
   "cell_type": "code",
   "execution_count": null,
   "id": "bb9b1853-0f16-4ae7-85ae-fdd9a74eb1e1",
   "metadata": {},
   "outputs": [],
   "source": [
    "from module_microphone import listen, AudioProcessor\n",
    "\n",
    "audio_processor: AudioProcessor = listen.one_phrase()\n",
    "txt: str = audio_processor.as_text()\n",
    "print(txt)"
   ]
  },
  {
   "cell_type": "markdown",
   "id": "b20bab5c-644b-470a-a781-fe98848a747e",
   "metadata": {},
   "source": [
    "`for_each_phrase(callback)` écoute en tâche de fond et à chaque fois qu'une phrase est prononcée (suivie d'une pause), elle appelle le callback fournis en paramètre en lui donnant une instance de `AudioProcessor` en argument."
   ]
  },
  {
   "cell_type": "code",
   "execution_count": null,
   "id": "7782ff63-5747-401b-af4d-c6c39d677449",
   "metadata": {},
   "outputs": [],
   "source": [
    "from module_microphone import listen\n",
    "\n",
    "def print_speech(audio: AudioProcessor):\n",
    "    print(\"Je réfléchis...\")\n",
    "    print(\"Tu as dis: \" + audio.as_text())\n",
    "\n",
    "\n",
    "listen.for_each_phrase(print_speech)\n",
    "print(\"Le microphone écoute en arrière plan, il écrira ce que tu dis.\\n\")\n",
    "\n",
    "input(\"Appuies sur une touche pour arrêter.\")\n",
    "\n",
    "print(\"Arrêt en cours...\")\n",
    "listen.stop()"
   ]
  }
 ],
 "metadata": {
  "kernelspec": {
   "display_name": "Python 3 (ipykernel)",
   "language": "python",
   "name": "python3"
  },
  "language_info": {
   "codemirror_mode": {
    "name": "ipython",
    "version": 3
   },
   "file_extension": ".py",
   "mimetype": "text/x-python",
   "name": "python",
   "nbconvert_exporter": "python",
   "pygments_lexer": "ipython3",
   "version": "3.10.12"
  }
 },
 "nbformat": 4,
 "nbformat_minor": 5
}
